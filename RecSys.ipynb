{
 "cells": [
  {
   "cell_type": "markdown",
   "id": "27b994f0-a998-4bff-9834-979bbac2a8ae",
   "metadata": {},
   "source": [
    "# Recommender systems"
   ]
  },
  {
   "cell_type": "markdown",
   "id": "39f321ad-0c77-4bed-ad2e-a7db908f855a",
   "metadata": {},
   "source": [
    "https://cseweb.ucsd.edu/~jmcauley/datasets.html"
   ]
  },
  {
   "cell_type": "code",
   "execution_count": 1,
   "id": "3f5827b2-c7ae-4341-9e3e-6f5aa4d8b4b1",
   "metadata": {},
   "outputs": [],
   "source": [
    "import pandas as pd\n",
    "import numpy as np\n",
    "import seaborn as sns\n",
    "import matplotlib.pyplot as plt\n",
    "from scipy.stats import ttest_ind\n",
    "import warnings\n",
    "warnings.filterwarnings(\"ignore\")\n",
    "from scipy.sparse import csr_matrix\n",
    "from sklearn.preprocessing import LabelEncoder\n",
    "from sklearn.metrics.pairwise import cosine_similarity\n",
    "from surprise import Dataset, Reader, SVD, accuracy\n",
    "from surprise.model_selection import train_test_split\n",
    "from sklearn.model_selection import train_test_split as tts\n",
    "from collections import defaultdict\n",
    "import torch\n",
    "from torch.utils.data import TensorDataset, DataLoader\n",
    "import torch.nn as nn\n",
    "import torch.nn.functional as F\n",
    "from tqdm import tqdm\n",
    "import gc\n",
    "from sklearn.feature_extraction.text import TfidfVectorizer"
   ]
  },
  {
   "cell_type": "code",
   "execution_count": 2,
   "id": "d3d07ca2-204c-4f59-b537-c639316506ad",
   "metadata": {},
   "outputs": [],
   "source": [
    "df = pd.read_json('Amazon_Fashion.jsonl', lines=True)"
   ]
  },
  {
   "cell_type": "code",
   "execution_count": 3,
   "id": "1e138978-5a9b-4a0f-8bdd-bece366f5e96",
   "metadata": {},
   "outputs": [
    {
     "data": {
      "text/plain": [
       "(2500939, 10)"
      ]
     },
     "execution_count": 3,
     "metadata": {},
     "output_type": "execute_result"
    }
   ],
   "source": [
    "df.shape"
   ]
  },
  {
   "cell_type": "code",
   "execution_count": 3,
   "id": "57034c23-2afa-4a0f-bfb8-ca4261904e6e",
   "metadata": {},
   "outputs": [],
   "source": [
    "df_meta = pd.read_json('meta_Amazon_Fashion.jsonl', lines=True)"
   ]
  },
  {
   "cell_type": "code",
   "execution_count": 10,
   "id": "87b0f6dd-864a-4e79-b290-e4d6a4c216d1",
   "metadata": {},
   "outputs": [
    {
     "data": {
      "text/plain": [
       "(826108, 14)"
      ]
     },
     "execution_count": 10,
     "metadata": {},
     "output_type": "execute_result"
    }
   ],
   "source": [
    "df_meta.shape"
   ]
  },
  {
   "cell_type": "code",
   "execution_count": 11,
   "id": "265e7e98-3929-429d-bfca-0c16c870f73e",
   "metadata": {},
   "outputs": [
    {
     "data": {
      "text/html": [
       "<div>\n",
       "<style scoped>\n",
       "    .dataframe tbody tr th:only-of-type {\n",
       "        vertical-align: middle;\n",
       "    }\n",
       "\n",
       "    .dataframe tbody tr th {\n",
       "        vertical-align: top;\n",
       "    }\n",
       "\n",
       "    .dataframe thead th {\n",
       "        text-align: right;\n",
       "    }\n",
       "</style>\n",
       "<table border=\"1\" class=\"dataframe\">\n",
       "  <thead>\n",
       "    <tr style=\"text-align: right;\">\n",
       "      <th></th>\n",
       "      <th>rating</th>\n",
       "      <th>title</th>\n",
       "      <th>text</th>\n",
       "      <th>images</th>\n",
       "      <th>asin</th>\n",
       "      <th>parent_asin</th>\n",
       "      <th>user_id</th>\n",
       "      <th>timestamp</th>\n",
       "      <th>helpful_vote</th>\n",
       "      <th>verified_purchase</th>\n",
       "    </tr>\n",
       "  </thead>\n",
       "  <tbody>\n",
       "    <tr>\n",
       "      <th>0</th>\n",
       "      <td>5</td>\n",
       "      <td>Pretty locket</td>\n",
       "      <td>I think this locket is really pretty. The insi...</td>\n",
       "      <td>[]</td>\n",
       "      <td>B00LOPVX74</td>\n",
       "      <td>B00LOPVX74</td>\n",
       "      <td>AGBFYI2DDIKXC5Y4FARTYDTQBMFQ</td>\n",
       "      <td>2020-01-09 00:06:34.489</td>\n",
       "      <td>3</td>\n",
       "      <td>True</td>\n",
       "    </tr>\n",
       "    <tr>\n",
       "      <th>1</th>\n",
       "      <td>5</td>\n",
       "      <td>A</td>\n",
       "      <td>Great</td>\n",
       "      <td>[]</td>\n",
       "      <td>B07B4JXK8D</td>\n",
       "      <td>B07B4JXK8D</td>\n",
       "      <td>AFQLNQNQYFWQZPJQZS6V3NZU4QBQ</td>\n",
       "      <td>2020-12-20 01:04:06.701</td>\n",
       "      <td>0</td>\n",
       "      <td>True</td>\n",
       "    </tr>\n",
       "    <tr>\n",
       "      <th>2</th>\n",
       "      <td>2</td>\n",
       "      <td>Two Stars</td>\n",
       "      <td>One of the stones fell out within the first 2 ...</td>\n",
       "      <td>[]</td>\n",
       "      <td>B007ZSEQ4Q</td>\n",
       "      <td>B007ZSEQ4Q</td>\n",
       "      <td>AHITBJSS7KYUBVZPX7M2WJCOIVKQ</td>\n",
       "      <td>2015-05-23 01:33:48.000</td>\n",
       "      <td>3</td>\n",
       "      <td>True</td>\n",
       "    </tr>\n",
       "  </tbody>\n",
       "</table>\n",
       "</div>"
      ],
      "text/plain": [
       "   rating          title                                               text  \\\n",
       "0       5  Pretty locket  I think this locket is really pretty. The insi...   \n",
       "1       5              A                                              Great   \n",
       "2       2      Two Stars  One of the stones fell out within the first 2 ...   \n",
       "\n",
       "  images        asin parent_asin                       user_id  \\\n",
       "0     []  B00LOPVX74  B00LOPVX74  AGBFYI2DDIKXC5Y4FARTYDTQBMFQ   \n",
       "1     []  B07B4JXK8D  B07B4JXK8D  AFQLNQNQYFWQZPJQZS6V3NZU4QBQ   \n",
       "2     []  B007ZSEQ4Q  B007ZSEQ4Q  AHITBJSS7KYUBVZPX7M2WJCOIVKQ   \n",
       "\n",
       "                timestamp  helpful_vote  verified_purchase  \n",
       "0 2020-01-09 00:06:34.489             3               True  \n",
       "1 2020-12-20 01:04:06.701             0               True  \n",
       "2 2015-05-23 01:33:48.000             3               True  "
      ]
     },
     "execution_count": 11,
     "metadata": {},
     "output_type": "execute_result"
    }
   ],
   "source": [
    "df.head(3)"
   ]
  },
  {
   "cell_type": "code",
   "execution_count": 13,
   "id": "6d0c2a4e-b6e6-4575-a1b2-c9dca573b4b6",
   "metadata": {},
   "outputs": [
    {
     "data": {
      "text/html": [
       "<div>\n",
       "<style scoped>\n",
       "    .dataframe tbody tr th:only-of-type {\n",
       "        vertical-align: middle;\n",
       "    }\n",
       "\n",
       "    .dataframe tbody tr th {\n",
       "        vertical-align: top;\n",
       "    }\n",
       "\n",
       "    .dataframe thead th {\n",
       "        text-align: right;\n",
       "    }\n",
       "</style>\n",
       "<table border=\"1\" class=\"dataframe\">\n",
       "  <thead>\n",
       "    <tr style=\"text-align: right;\">\n",
       "      <th></th>\n",
       "      <th>0</th>\n",
       "      <th>1</th>\n",
       "      <th>2</th>\n",
       "    </tr>\n",
       "  </thead>\n",
       "  <tbody>\n",
       "    <tr>\n",
       "      <th>main_category</th>\n",
       "      <td>AMAZON FASHION</td>\n",
       "      <td>AMAZON FASHION</td>\n",
       "      <td>AMAZON FASHION</td>\n",
       "    </tr>\n",
       "    <tr>\n",
       "      <th>title</th>\n",
       "      <td>YUEDGE 5 Pairs Men's Moisture Control Cushione...</td>\n",
       "      <td>DouBCQ Women's Palazzo Lounge Wide Leg Casual ...</td>\n",
       "      <td>Pastel by Vivienne Honey Vanilla Girls' Trapez...</td>\n",
       "    </tr>\n",
       "    <tr>\n",
       "      <th>average_rating</th>\n",
       "      <td>4.6</td>\n",
       "      <td>4.1</td>\n",
       "      <td>4.3</td>\n",
       "    </tr>\n",
       "    <tr>\n",
       "      <th>rating_number</th>\n",
       "      <td>16</td>\n",
       "      <td>7</td>\n",
       "      <td>11</td>\n",
       "    </tr>\n",
       "    <tr>\n",
       "      <th>features</th>\n",
       "      <td>[]</td>\n",
       "      <td>[Drawstring closure, Machine Wash]</td>\n",
       "      <td>[Zipper closure, Hand Wash Only]</td>\n",
       "    </tr>\n",
       "    <tr>\n",
       "      <th>description</th>\n",
       "      <td>[]</td>\n",
       "      <td>[]</td>\n",
       "      <td>[]</td>\n",
       "    </tr>\n",
       "    <tr>\n",
       "      <th>price</th>\n",
       "      <td>NaN</td>\n",
       "      <td>NaN</td>\n",
       "      <td>NaN</td>\n",
       "    </tr>\n",
       "    <tr>\n",
       "      <th>images</th>\n",
       "      <td>[{'thumb': 'https://m.media-amazon.com/images/...</td>\n",
       "      <td>[{'thumb': 'https://m.media-amazon.com/images/...</td>\n",
       "      <td>[{'thumb': 'https://m.media-amazon.com/images/...</td>\n",
       "    </tr>\n",
       "    <tr>\n",
       "      <th>videos</th>\n",
       "      <td>[]</td>\n",
       "      <td>[]</td>\n",
       "      <td>[]</td>\n",
       "    </tr>\n",
       "    <tr>\n",
       "      <th>store</th>\n",
       "      <td>GiveGift</td>\n",
       "      <td>DouBCQ</td>\n",
       "      <td>Pastel by Vivienne</td>\n",
       "    </tr>\n",
       "    <tr>\n",
       "      <th>categories</th>\n",
       "      <td>[]</td>\n",
       "      <td>[]</td>\n",
       "      <td>[]</td>\n",
       "    </tr>\n",
       "    <tr>\n",
       "      <th>details</th>\n",
       "      <td>{'Package Dimensions': '10.31 x 8.5 x 1.73 inc...</td>\n",
       "      <td>{'Package Dimensions': '15 x 10.2 x 0.4 inches...</td>\n",
       "      <td>{'Is Discontinued By Manufacturer': 'No', 'Pac...</td>\n",
       "    </tr>\n",
       "    <tr>\n",
       "      <th>parent_asin</th>\n",
       "      <td>B08BHN9PK5</td>\n",
       "      <td>B08R39MRDW</td>\n",
       "      <td>B077KJHCJ4</td>\n",
       "    </tr>\n",
       "    <tr>\n",
       "      <th>bought_together</th>\n",
       "      <td>NaN</td>\n",
       "      <td>NaN</td>\n",
       "      <td>NaN</td>\n",
       "    </tr>\n",
       "  </tbody>\n",
       "</table>\n",
       "</div>"
      ],
      "text/plain": [
       "                                                                 0  \\\n",
       "main_category                                       AMAZON FASHION   \n",
       "title            YUEDGE 5 Pairs Men's Moisture Control Cushione...   \n",
       "average_rating                                                 4.6   \n",
       "rating_number                                                   16   \n",
       "features                                                        []   \n",
       "description                                                     []   \n",
       "price                                                          NaN   \n",
       "images           [{'thumb': 'https://m.media-amazon.com/images/...   \n",
       "videos                                                          []   \n",
       "store                                                     GiveGift   \n",
       "categories                                                      []   \n",
       "details          {'Package Dimensions': '10.31 x 8.5 x 1.73 inc...   \n",
       "parent_asin                                             B08BHN9PK5   \n",
       "bought_together                                                NaN   \n",
       "\n",
       "                                                                 1  \\\n",
       "main_category                                       AMAZON FASHION   \n",
       "title            DouBCQ Women's Palazzo Lounge Wide Leg Casual ...   \n",
       "average_rating                                                 4.1   \n",
       "rating_number                                                    7   \n",
       "features                        [Drawstring closure, Machine Wash]   \n",
       "description                                                     []   \n",
       "price                                                          NaN   \n",
       "images           [{'thumb': 'https://m.media-amazon.com/images/...   \n",
       "videos                                                          []   \n",
       "store                                                       DouBCQ   \n",
       "categories                                                      []   \n",
       "details          {'Package Dimensions': '15 x 10.2 x 0.4 inches...   \n",
       "parent_asin                                             B08R39MRDW   \n",
       "bought_together                                                NaN   \n",
       "\n",
       "                                                                 2  \n",
       "main_category                                       AMAZON FASHION  \n",
       "title            Pastel by Vivienne Honey Vanilla Girls' Trapez...  \n",
       "average_rating                                                 4.3  \n",
       "rating_number                                                   11  \n",
       "features                          [Zipper closure, Hand Wash Only]  \n",
       "description                                                     []  \n",
       "price                                                          NaN  \n",
       "images           [{'thumb': 'https://m.media-amazon.com/images/...  \n",
       "videos                                                          []  \n",
       "store                                           Pastel by Vivienne  \n",
       "categories                                                      []  \n",
       "details          {'Is Discontinued By Manufacturer': 'No', 'Pac...  \n",
       "parent_asin                                             B077KJHCJ4  \n",
       "bought_together                                                NaN  "
      ]
     },
     "execution_count": 13,
     "metadata": {},
     "output_type": "execute_result"
    }
   ],
   "source": [
    "df_meta.head(3).T"
   ]
  },
  {
   "cell_type": "code",
   "execution_count": 4,
   "id": "18b1ac44-4d2f-455e-9b62-38521c6d04bf",
   "metadata": {},
   "outputs": [],
   "source": [
    "df_filtered = df.groupby('user_id').filter(lambda x: len(x) >= 3)\n",
    "df_filtered = df_filtered.groupby('parent_asin').filter(lambda x: len(x) >= 3)\n",
    "#I decided to use only data with users with at least three reviews"
   ]
  },
  {
   "cell_type": "code",
   "execution_count": 5,
   "id": "f08ac042-3bbd-4440-a437-760e842f24bb",
   "metadata": {},
   "outputs": [],
   "source": [
    "df_ratings = df_filtered[['user_id', 'parent_asin', 'rating']]\n",
    "df_ratings['interaction'] = (df_ratings['rating'] >= 4).astype(int)\n",
    "user_enc = LabelEncoder()\n",
    "item_enc = LabelEncoder()\n",
    "df_ratings['user_idx'] = user_enc.fit_transform(df_ratings['user_id'])\n",
    "df_ratings['item_idx'] = item_enc.fit_transform(df_ratings['parent_asin'])"
   ]
  },
  {
   "cell_type": "code",
   "execution_count": 23,
   "id": "f97177fb-6026-4129-8cd9-ad9922f5b3d2",
   "metadata": {},
   "outputs": [
    {
     "data": {
      "text/plain": [
       "(118149, 6)"
      ]
     },
     "execution_count": 23,
     "metadata": {},
     "output_type": "execute_result"
    }
   ],
   "source": [
    "df_ratings.shape"
   ]
  },
  {
   "cell_type": "markdown",
   "id": "df89e3f6-1dc7-4991-9dda-4ac1053fba37",
   "metadata": {},
   "source": [
    "### Collaborative filtering"
   ]
  },
  {
   "cell_type": "code",
   "execution_count": 24,
   "id": "fb73d538-56bb-4178-b264-d526346bbf38",
   "metadata": {},
   "outputs": [],
   "source": [
    "ratings_matrix = csr_matrix((df_ratings['rating'], (df_ratings['user_idx'], df_ratings['item_idx'])),\n",
    "    shape=(df_ratings['user_idx'].nunique(), df_ratings['item_idx'].nunique()))"
   ]
  },
  {
   "cell_type": "code",
   "execution_count": 25,
   "id": "ace44fd2-1fd3-4abb-a1dd-db2689530511",
   "metadata": {},
   "outputs": [],
   "source": [
    "def recommend_similar_items(item_idx, top_n=5):\n",
    "    sim_scores = item_similarity[item_idx]\n",
    "    top_indices = np.argsort(sim_scores)[::-1][1:top_n+1]\n",
    "    return top_indices, sim_scores[top_indices]\n",
    "\n",
    "item_similarity = cosine_similarity(ratings_matrix.T)"
   ]
  },
  {
   "cell_type": "code",
   "execution_count": 26,
   "id": "467e4241-25e6-4aae-8248-3f5d8dc7b971",
   "metadata": {},
   "outputs": [
    {
     "name": "stdout",
     "output_type": "stream",
     "text": [
      "Item B01833A8F2 — similarity: 0.32\n",
      "Item B0178X5E0W — similarity: 0.27\n",
      "Item B09H6MXJ71 — similarity: 0.05\n",
      "Item B0CF5FKGV2 — similarity: 0.00\n",
      "Item B01D23C72A — similarity: 0.00\n"
     ]
    }
   ],
   "source": [
    "similar_items, scores = recommend_similar_items(1)\n",
    "for idx, score in zip(similar_items, scores):\n",
    "    print(f\"Item {item_enc.inverse_transform([idx])[0]} — similarity: {score:.2f}\")"
   ]
  },
  {
   "cell_type": "code",
   "execution_count": 27,
   "id": "8fb98667-3da0-436f-9b2f-9104ab77fecf",
   "metadata": {},
   "outputs": [
    {
     "name": "stdout",
     "output_type": "stream",
     "text": [
      "Matrix density: 0.000089\n"
     ]
    }
   ],
   "source": [
    "density = ratings_matrix.count_nonzero() / (ratings_matrix.shape[0] * ratings_matrix.shape[1])\n",
    "print(f\"Matrix density: {density:.6f}\")"
   ]
  },
  {
   "cell_type": "markdown",
   "id": "d1fe8c27-a35a-4798-bbd3-9aaf5b222545",
   "metadata": {},
   "source": [
    "The user–item interaction matrix exhibits extreme sparsity, with a density of just 0.002% (initially 0.0001% if not filtered), meaning the vast majority of possible user–item pairs have no recorded interactions. This level of sparsity severely limits the effectiveness of traditional collaborative filtering approaches such as user–user and item–item cosine similarity, as there is minimal overlap in the items rated by different users or the users who rated the same items. The sparsity reflects the nature of large e‑commerce datasets, where individual users typically interact with only a tiny fraction of the available catalog. "
   ]
  },
  {
   "cell_type": "markdown",
   "id": "af9835ae-77c5-4ac5-83d9-edec862e9863",
   "metadata": {},
   "source": [
    "### Matrix factorization and SVD model"
   ]
  },
  {
   "cell_type": "code",
   "execution_count": 8,
   "id": "f5fb4d01-3403-4f6f-b51a-945e3dcfd381",
   "metadata": {},
   "outputs": [
    {
     "data": {
      "text/plain": [
       "0"
      ]
     },
     "execution_count": 8,
     "metadata": {},
     "output_type": "execute_result"
    }
   ],
   "source": [
    "del ratings_matrix, df_ratings\n",
    "import gc\n",
    "gc.collect()"
   ]
  },
  {
   "cell_type": "code",
   "execution_count": 36,
   "id": "8987bc27-ed3a-46b5-97ac-32114ba053a0",
   "metadata": {},
   "outputs": [],
   "source": [
    "ratings_df = df[['user_id', 'parent_asin', 'rating']]\n",
    "reader = Reader(rating_scale=(ratings_df['rating'].min(), ratings_df['rating'].max()))\n",
    "data = Dataset.load_from_df(ratings_df, reader)\n",
    "trainset, testset = train_test_split(data, test_size=0.2, random_state=42)"
   ]
  },
  {
   "cell_type": "code",
   "execution_count": 37,
   "id": "5557ef22-0c78-4b11-a39f-a55295ad15d0",
   "metadata": {},
   "outputs": [
    {
     "data": {
      "text/plain": [
       "<surprise.prediction_algorithms.matrix_factorization.SVD at 0x5b3c40680>"
      ]
     },
     "execution_count": 37,
     "metadata": {},
     "output_type": "execute_result"
    }
   ],
   "source": [
    "algo = SVD(n_factors=50, biased=True, random_state=42)\n",
    "algo.fit(trainset)"
   ]
  },
  {
   "cell_type": "code",
   "execution_count": 40,
   "id": "ae1427dd-72bf-47b7-9a1f-cf6242bfd3f1",
   "metadata": {},
   "outputs": [
    {
     "name": "stdout",
     "output_type": "stream",
     "text": [
      "RMSE: 1.3719\n",
      "MAE:  1.1213\n"
     ]
    }
   ],
   "source": [
    "predictions = algo.test(testset)\n",
    "rmse = accuracy.rmse(predictions)\n",
    "mae = accuracy.mae(predictions)"
   ]
  },
  {
   "cell_type": "code",
   "execution_count": 38,
   "id": "6d0af0d1-0c75-4061-96ab-0faf4c77775a",
   "metadata": {},
   "outputs": [],
   "source": [
    "def get_top_n(predictions, n=10):\n",
    "    top_n = defaultdict(list)\n",
    "    for uid, iid, true_r, est, _ in predictions:\n",
    "        top_n[uid].append((iid, est))\n",
    "    for uid, user_ratings in top_n.items():\n",
    "        user_ratings.sort(key=lambda x: x[1], reverse=True)\n",
    "        top_n[uid] = user_ratings[:n]\n",
    "    return top_n\n",
    "\n",
    "def precision_at_k(predictions, k=10, threshold=4.0):\n",
    "    user_est_true = defaultdict(list)\n",
    "    for uid, iid, true_r, est, _ in predictions:\n",
    "        user_est_true[uid].append((est, true_r))\n",
    "    precisions = []\n",
    "    for uid, user_ratings in user_est_true.items():\n",
    "        user_ratings.sort(key=lambda x: x[0], reverse=True)\n",
    "        top_k = user_ratings[:k]\n",
    "        n_rel = sum((true_r >= threshold) for (_, true_r) in top_k)\n",
    "        precisions.append(n_rel / k)\n",
    "    return sum(precisions) / len(precisions)"
   ]
  },
  {
   "cell_type": "code",
   "execution_count": 41,
   "id": "b172f68d-ca38-489a-9055-146e03a37c84",
   "metadata": {},
   "outputs": [
    {
     "name": "stdout",
     "output_type": "stream",
     "text": [
      "Top recommendations for AEDWOML5U2GCOVCC5VMJ4O4NLRHA:\n",
      "Item: B083LXCFT6, Predicted rating: 4.38\n"
     ]
    }
   ],
   "source": [
    "top_n = get_top_n(predictions)\n",
    "user = list(top_n.keys())[0]\n",
    "print(f\"Top recommendations for {user}:\")\n",
    "for iid, rating in top_n[user]:\n",
    "    print(f\"Item: {iid}, Predicted rating: {rating:.2f}\")"
   ]
  },
  {
   "cell_type": "code",
   "execution_count": 42,
   "id": "d469e052-2534-4822-9b85-ba9b038648dd",
   "metadata": {},
   "outputs": [
    {
     "name": "stdout",
     "output_type": "stream",
     "text": [
      "Precision@10: 0.0754\n"
     ]
    }
   ],
   "source": [
    "p_at_10 = precision_at_k(predictions, k=10, threshold=4.0)\n",
    "print(f\"Precision@10: {p_at_10:.4f}\")"
   ]
  },
  {
   "cell_type": "markdown",
   "id": "ba3d0191-afbc-4050-a430-7acf7022631b",
   "metadata": {},
   "source": [
    "The SVD model's predicted ratings were reasonably close to actual ratings, but this doesn't tell us how good the recommendations are. To test recommendation quality, we measured Precision@10, which shows how many of the top 10 recommended items users actually liked (rated 4 or higher). The model achieved a Precision@10 of 7.5%. These results show that while SVD can learn some user preferences, the sparse data limits how well it works."
   ]
  },
  {
   "cell_type": "code",
   "execution_count": 22,
   "id": "0c833081-00bd-4cd6-ab08-a4f42d67d082",
   "metadata": {},
   "outputs": [
    {
     "data": {
      "text/plain": [
       "0"
      ]
     },
     "execution_count": 22,
     "metadata": {},
     "output_type": "execute_result"
    }
   ],
   "source": [
    "del data, reader, trainset, testset\n",
    "gc.collect()"
   ]
  },
  {
   "cell_type": "markdown",
   "id": "65bfee97-706d-4c14-9266-2c219960c8b3",
   "metadata": {},
   "source": [
    "### Neural Models and Advanced Recommenders"
   ]
  },
  {
   "cell_type": "code",
   "execution_count": 30,
   "id": "45616d38-1b17-45f5-a3da-09cb6fc67cde",
   "metadata": {},
   "outputs": [],
   "source": [
    "# lightfm, implicit - have some problems with MacOS installation"
   ]
  },
  {
   "cell_type": "code",
   "execution_count": 43,
   "id": "a3a5e8ab-307f-4c29-8b24-246d8753ef3f",
   "metadata": {},
   "outputs": [],
   "source": [
    "train_df, val_df = tts(df_ratings, test_size=0.2, random_state=42)\n",
    "train_users = torch.LongTensor(train_df['user_idx'].values)\n",
    "train_items = torch.LongTensor(train_df['item_idx'].values)\n",
    "train_ratings = torch.FloatTensor(train_df['rating'].values)\n",
    "\n",
    "val_users = torch.LongTensor(val_df['user_idx'].values)\n",
    "val_items = torch.LongTensor(val_df['item_idx'].values)\n",
    "val_ratings = torch.FloatTensor(val_df['rating'].values)\n",
    "\n",
    "train_ds = TensorDataset(train_users, train_items, train_ratings)\n",
    "val_ds = TensorDataset(val_users, val_items, val_ratings)\n",
    "\n",
    "train_dl = DataLoader(train_ds, batch_size=1024, shuffle=True)\n",
    "val_dl = DataLoader(val_ds, batch_size=1024)"
   ]
  },
  {
   "cell_type": "code",
   "execution_count": 44,
   "id": "d69e3dca-b9b8-4f04-8265-533f9521fede",
   "metadata": {},
   "outputs": [],
   "source": [
    "class NCF(nn.Module):\n",
    "    def __init__(self, n_users, n_items, n_factors=64):\n",
    "        super().__init__()\n",
    "        self.user_emb = nn.Embedding(n_users, n_factors)\n",
    "        self.item_emb = nn.Embedding(n_items, n_factors)\n",
    "        self.fc1 = nn.Linear(n_factors * 2, 128)\n",
    "        self.fc2 = nn.Linear(128, 64)\n",
    "        self.out = nn.Linear(64, 1)\n",
    "\n",
    "    def forward(self, user, item):\n",
    "        u = self.user_emb(user)\n",
    "        i = self.item_emb(item)\n",
    "        x = torch.cat([u, i], dim=1)\n",
    "        x = F.relu(self.fc1(x))\n",
    "        x = F.relu(self.fc2(x))\n",
    "        return self.out(x).squeeze()"
   ]
  },
  {
   "cell_type": "code",
   "execution_count": 45,
   "id": "dfe3daa4-f839-4c68-92c5-8f70e8e4d6a4",
   "metadata": {},
   "outputs": [],
   "source": [
    "model = NCF(n_users=df_ratings['user_idx'].nunique(), n_items=df_ratings['item_idx'].nunique())"
   ]
  },
  {
   "cell_type": "code",
   "execution_count": 46,
   "id": "404e1177-c2f6-4d9c-bb63-5c0db2649093",
   "metadata": {},
   "outputs": [
    {
     "name": "stderr",
     "output_type": "stream",
     "text": [
      "Epoch 1: 100%|████████████████████████████████| 257/257 [00:05<00:00, 43.32it/s]\n"
     ]
    },
    {
     "name": "stdout",
     "output_type": "stream",
     "text": [
      "Epoch 1: train_loss=2.8181 val_loss=1.8145\n"
     ]
    },
    {
     "name": "stderr",
     "output_type": "stream",
     "text": [
      "Epoch 2: 100%|████████████████████████████████| 257/257 [00:05<00:00, 43.59it/s]\n"
     ]
    },
    {
     "name": "stdout",
     "output_type": "stream",
     "text": [
      "Epoch 2: train_loss=1.6993 val_loss=1.7816\n"
     ]
    },
    {
     "name": "stderr",
     "output_type": "stream",
     "text": [
      "Epoch 3: 100%|████████████████████████████████| 257/257 [00:09<00:00, 27.54it/s]\n"
     ]
    },
    {
     "name": "stdout",
     "output_type": "stream",
     "text": [
      "Epoch 3: train_loss=1.5767 val_loss=1.7668\n"
     ]
    },
    {
     "name": "stderr",
     "output_type": "stream",
     "text": [
      "Epoch 4: 100%|████████████████████████████████| 257/257 [00:06<00:00, 41.61it/s]\n"
     ]
    },
    {
     "name": "stdout",
     "output_type": "stream",
     "text": [
      "Epoch 4: train_loss=1.4618 val_loss=1.7506\n"
     ]
    },
    {
     "name": "stderr",
     "output_type": "stream",
     "text": [
      "Epoch 5: 100%|████████████████████████████████| 257/257 [00:06<00:00, 40.40it/s]\n"
     ]
    },
    {
     "name": "stdout",
     "output_type": "stream",
     "text": [
      "Epoch 5: train_loss=1.3344 val_loss=1.7512\n"
     ]
    }
   ],
   "source": [
    "optimizer = torch.optim.Adam(model.parameters(), lr=1e-3)\n",
    "loss_fn = nn.MSELoss()\n",
    "\n",
    "for epoch in range(5):\n",
    "    model.train()\n",
    "    train_loss = 0\n",
    "    for u, i, r in tqdm(train_dl, desc=f\"Epoch {epoch+1}\"):\n",
    "        pred = model(u, i)\n",
    "        loss = loss_fn(pred, r)\n",
    "        optimizer.zero_grad()\n",
    "        loss.backward()\n",
    "        optimizer.step()\n",
    "        train_loss += loss.item()\n",
    "    train_loss /= len(train_dl)\n",
    "\n",
    "    model.eval()\n",
    "    val_loss = 0\n",
    "    with torch.no_grad():\n",
    "        for u, i, r in val_dl:\n",
    "            val_loss += loss_fn(model(u, i), r).item()\n",
    "    val_loss /= len(val_dl)\n",
    "\n",
    "    print(f\"Epoch {epoch+1}: train_loss={train_loss:.4f} val_loss={val_loss:.4f}\")"
   ]
  },
  {
   "cell_type": "markdown",
   "id": "d2c3fdc7-fa05-4143-af2b-f6f00d653618",
   "metadata": {},
   "source": [
    "Overfitted training set — training loss decreased to 0.0898, but validation loss increased to 2.92, signaling overfitting. => Add dropout layers (to reduce co-adaptation of neurons), add L2 regularization (to penalize large weights), stop when validation loss stops improving."
   ]
  },
  {
   "cell_type": "code",
   "execution_count": 47,
   "id": "0b5ed57f-b7fc-496e-ad4a-6580c210688c",
   "metadata": {},
   "outputs": [],
   "source": [
    "class NCF(nn.Module):\n",
    "    def __init__(self, n_users, n_items, n_factors=64, dropout=0.3):\n",
    "        super().__init__()\n",
    "        self.user_emb = nn.Embedding(n_users, n_factors)\n",
    "        self.item_emb = nn.Embedding(n_items, n_factors)\n",
    "        \n",
    "        self.fc1 = nn.Linear(n_factors * 2, 128)\n",
    "        self.dropout1 = nn.Dropout(dropout)\n",
    "        \n",
    "        self.fc2 = nn.Linear(128, 64)\n",
    "        self.dropout2 = nn.Dropout(dropout)\n",
    "        \n",
    "        self.out = nn.Linear(64, 1)\n",
    "\n",
    "    def forward(self, user, item):\n",
    "        u = self.user_emb(user)\n",
    "        i = self.item_emb(item)\n",
    "        x = torch.cat([u, i], dim=1)\n",
    "        x = F.relu(self.fc1(x))\n",
    "        x = self.dropout1(x)\n",
    "        x = F.relu(self.fc2(x))\n",
    "        x = self.dropout2(x)\n",
    "        return self.out(x).squeeze()"
   ]
  },
  {
   "cell_type": "code",
   "execution_count": 48,
   "id": "cf05fa6a-e91f-4413-8191-cb2c4b70e72f",
   "metadata": {},
   "outputs": [
    {
     "name": "stdout",
     "output_type": "stream",
     "text": [
      "Epoch 1: train_loss=3.1800, val_loss=1.8540\n",
      "Epoch 2: train_loss=2.1746, val_loss=1.8682\n",
      "Epoch 3: train_loss=2.1170, val_loss=1.8551\n",
      "Epoch 4: train_loss=2.0679, val_loss=1.8043\n",
      "Epoch 5: train_loss=2.0138, val_loss=1.7663\n",
      "Epoch 6: train_loss=1.9559, val_loss=1.7403\n",
      "Epoch 7: train_loss=1.8661, val_loss=1.7191\n",
      "Epoch 8: train_loss=1.6825, val_loss=1.6922\n",
      "Epoch 9: train_loss=1.3471, val_loss=1.7246\n",
      "Epoch 10: train_loss=0.9751, val_loss=1.7933\n",
      "Epoch 11: train_loss=0.7301, val_loss=1.8863\n",
      "Early stopping triggered.\n"
     ]
    }
   ],
   "source": [
    "model = NCF(n_users=df_ratings['user_idx'].nunique(), n_items=df_ratings['item_idx'].nunique())\n",
    "\n",
    "optimizer = torch.optim.Adam(model.parameters(), lr=1e-3, weight_decay=1e-5)\n",
    "loss_fn = nn.MSELoss()\n",
    "\n",
    "best_val_loss = np.inf\n",
    "patience = 3\n",
    "epochs_no_improve = 0\n",
    "n_epochs = 30\n",
    "\n",
    "for epoch in range(n_epochs):\n",
    "    model.train()\n",
    "    train_loss = 0\n",
    "    for u, i, r in train_dl:\n",
    "        pred = model(u, i)\n",
    "        loss = loss_fn(pred, r)\n",
    "        optimizer.zero_grad()\n",
    "        loss.backward()\n",
    "        optimizer.step()\n",
    "        train_loss += loss.item()\n",
    "    train_loss /= len(train_dl)\n",
    "\n",
    "    model.eval()\n",
    "    val_loss = 0\n",
    "    with torch.no_grad():\n",
    "        for u, i, r in val_dl:\n",
    "            val_loss += loss_fn(model(u, i), r).item()\n",
    "    val_loss /= len(val_dl)\n",
    "\n",
    "    print(f\"Epoch {epoch+1}: train_loss={train_loss:.4f}, val_loss={val_loss:.4f}\")\n",
    "\n",
    "    if val_loss < best_val_loss:\n",
    "        best_val_loss = val_loss\n",
    "        epochs_no_improve = 0\n",
    "    else:\n",
    "        epochs_no_improve += 1\n",
    "        if epochs_no_improve >= patience:\n",
    "            print(\"Early stopping triggered.\")\n",
    "            break"
   ]
  },
  {
   "cell_type": "code",
   "execution_count": 49,
   "id": "f9a76d7c-611c-49f6-b810-aecb7898bd89",
   "metadata": {},
   "outputs": [],
   "source": [
    "def get_top_n_nn_for_user(model, user_id_str, df, user_enc, item_enc, n=10):\n",
    "    model.eval()\n",
    "\n",
    "    user_idx = user_enc.transform([user_id_str])[0]\n",
    "    all_item_indices = np.arange(df['item_idx'].nunique())\n",
    "    item_tensor = torch.LongTensor(all_item_indices)\n",
    "    user_tensor = torch.LongTensor([user_idx] * len(all_item_indices))\n",
    "\n",
    "    with torch.no_grad():\n",
    "        preds = model(user_tensor, item_tensor).numpy()\n",
    "\n",
    "    top_n_items = np.argsort(preds)[-n:][::-1]\n",
    "    recommended_asins = item_enc.inverse_transform(top_n_items)\n",
    "\n",
    "    return recommended_asins"
   ]
  },
  {
   "cell_type": "code",
   "execution_count": 50,
   "id": "88c448be-c5b2-4ac5-94a6-220fa5e7e72b",
   "metadata": {},
   "outputs": [
    {
     "name": "stdout",
     "output_type": "stream",
     "text": [
      "Top 10 recommended items for user AHREXOGQPZDA6354MHH4ETSF3MCQ:\n",
      "['B01CZ2F898' 'B01AX8N7OO' 'B01MTMQXHX' 'B01MF8O21E' 'B01E8XTQHW'\n",
      " 'B00C6FCJBU' 'B007CL42QS' 'B08GKJ7SCQ' 'B01CX8QBJU' 'B00KNHVFN6']\n"
     ]
    }
   ],
   "source": [
    "test_user = df_ratings['user_id'].iloc[0]\n",
    "top_items = get_top_n_nn_for_user(model, test_user, df_ratings, user_enc, item_enc, n=10)\n",
    "print(f\"Top 10 recommended items for user {test_user}:\")\n",
    "print(top_items)"
   ]
  },
  {
   "cell_type": "code",
   "execution_count": 51,
   "id": "2069200b-fa54-4db6-9367-4af24259761b",
   "metadata": {},
   "outputs": [],
   "source": [
    "def precision_at_k_ncf(model, val_df, k=10, threshold=4.0):\n",
    "    model.eval()\n",
    "    user_est_true = defaultdict(list)\n",
    "\n",
    "    with torch.no_grad():\n",
    "        for u, i, r in val_dl:\n",
    "            preds = model(u, i)\n",
    "            for uid, iid, pred, true in zip(u, i, preds, r):\n",
    "                user_est_true[uid.item()].append((pred.item(), true.item()))\n",
    "\n",
    "    precisions = []\n",
    "\n",
    "    for uid, user_ratings in user_est_true.items():\n",
    "        user_ratings.sort(key=lambda x: x[0], reverse=True)\n",
    "        top_k = user_ratings[:k]\n",
    "        n_rel = sum(true >= threshold for _, true in top_k)\n",
    "        precisions.append(n_rel / k)\n",
    "\n",
    "    return sum(precisions) / len(precisions)"
   ]
  },
  {
   "cell_type": "code",
   "execution_count": 52,
   "id": "41d3d12f-da20-4ffe-8741-d148a36de490",
   "metadata": {},
   "outputs": [
    {
     "name": "stdout",
     "output_type": "stream",
     "text": [
      "Precision@10: 0.1057\n"
     ]
    }
   ],
   "source": [
    "p_at_10 = precision_at_k_ncf(model, val_df, k=10, threshold=4.0)\n",
    "print(f\"Precision@10: {p_at_10:.4f}\")"
   ]
  },
  {
   "cell_type": "code",
   "execution_count": 53,
   "id": "23b55602-ce8c-45cc-b353-d18b0b459d67",
   "metadata": {},
   "outputs": [
    {
     "name": "stdout",
     "output_type": "stream",
     "text": [
      "user 20575, est/true: [(4.676995754241943, 5.0), (3.7491989135742188, 3.0), (3.7491989135742188, 3.0)]\n"
     ]
    }
   ],
   "source": [
    "user_est_true = defaultdict(list)\n",
    "for u, i, r in val_dl:\n",
    "    preds = model(u, i)\n",
    "    for uid, iid, pred, true in zip(u, i, preds, r):\n",
    "        user_est_true[uid.item()].append((pred.item(), true.item()))\n",
    "\n",
    "for uid, user_ratings in user_est_true.items():\n",
    "    print(f\"user {uid}, est/true: {user_ratings[:3]}\")\n",
    "    break"
   ]
  },
  {
   "cell_type": "markdown",
   "id": "bc141a98-658b-47c3-81bb-5529fd9f2cbc",
   "metadata": {},
   "source": [
    "### Hybrid Recommender with SVD + Metadata (TF-IDF + Average Rating)"
   ]
  },
  {
   "cell_type": "code",
   "execution_count": 27,
   "id": "d9db4aa5-e0ac-401f-bfad-3c81d07a7f80",
   "metadata": {},
   "outputs": [],
   "source": [
    "df_meta_sub = df_meta[['parent_asin', 'title', 'average_rating']].dropna().drop_duplicates('parent_asin')\n",
    "\n",
    "sampled_asins = df_meta_sub['parent_asin'].drop_duplicates().sample(5000, random_state=42)\n",
    "df_meta_sub_small = df_meta_sub[df_meta_sub['parent_asin'].isin(sampled_asins)]\n",
    "df_ratings_small = df_ratings[df_ratings['parent_asin'].isin(sampled_asins)]\n",
    "\n",
    "df_full = df_ratings_small.merge(df_meta_sub_small, on='parent_asin')\n",
    "\n",
    "vectorizer = TfidfVectorizer(max_features=1000)\n",
    "tfidf_matrix = vectorizer.fit_transform(df_meta_sub_small['title'])"
   ]
  },
  {
   "cell_type": "code",
   "execution_count": 7,
   "id": "a53bee16-081b-49c3-83a8-afb5c7a2df50",
   "metadata": {},
   "outputs": [
    {
     "data": {
      "text/plain": [
       "0"
      ]
     },
     "execution_count": 7,
     "metadata": {},
     "output_type": "execute_result"
    }
   ],
   "source": [
    "del df, df_meta\n",
    "gc.collect()"
   ]
  },
  {
   "cell_type": "code",
   "execution_count": 15,
   "id": "1f14cbf9-b385-49e4-be97-0034f2031e83",
   "metadata": {},
   "outputs": [
    {
     "data": {
      "text/plain": [
       "(5000, 1000)"
      ]
     },
     "execution_count": 15,
     "metadata": {},
     "output_type": "execute_result"
    }
   ],
   "source": [
    "tfidf_matrix.shape"
   ]
  },
  {
   "cell_type": "code",
   "execution_count": 28,
   "id": "9fbea741-d7b4-4a85-973d-d6057efe5bd5",
   "metadata": {},
   "outputs": [
    {
     "data": {
      "text/plain": [
       "<surprise.prediction_algorithms.matrix_factorization.SVD at 0x3af551a60>"
      ]
     },
     "execution_count": 28,
     "metadata": {},
     "output_type": "execute_result"
    }
   ],
   "source": [
    "cosine_sim_matrix = cosine_similarity(tfidf_matrix)\n",
    "\n",
    "asin_to_idx = {asin: idx for idx, asin in enumerate(df_meta_sub_small['parent_asin'])}\n",
    "idx_to_asin = {idx: asin for asin, idx in asin_to_idx.items()}\n",
    "asin_to_title = dict(zip(df_meta_sub_small['parent_asin'], df_meta_sub_small['title']))\n",
    "\n",
    "reader = Reader(rating_scale=(1, 5))\n",
    "data = Dataset.load_from_df(df_ratings[['user_id', 'parent_asin', 'rating']], reader)\n",
    "trainset, testset = train_test_split(data, test_size=0.2, random_state=42)\n",
    "\n",
    "svd = SVD()\n",
    "svd.fit(trainset)"
   ]
  },
  {
   "cell_type": "code",
   "execution_count": 29,
   "id": "4c2dca57-cf8f-4b75-8a8e-bdfc01eff48f",
   "metadata": {},
   "outputs": [],
   "source": [
    "def hybrid_score_fast(user_id, candidate_asins, top_k=10, alpha=0.7, beta=0.2, debug=False):\n",
    "    scores = []\n",
    "    user_items = df_ratings[df_ratings['user_id'] == user_id]['parent_asin'].unique()\n",
    "    seen_idxs = [asin_to_idx[a] for a in user_items if a in asin_to_idx]\n",
    "\n",
    "    for asin in candidate_asins:\n",
    "        if asin not in asin_to_idx:\n",
    "            continue\n",
    "\n",
    "        asin_idx = asin_to_idx[asin]\n",
    "\n",
    "        try:\n",
    "            cf_score = svd.predict(user_id, asin).est\n",
    "            cf_score = (cf_score - 1) / 4\n",
    "        except:\n",
    "            cf_score = 0\n",
    "\n",
    "        content_sims = cosine_sim_matrix[asin_idx, seen_idxs] if seen_idxs else []\n",
    "        content_score = np.mean(content_sims) if len(content_sims) else 0\n",
    "\n",
    "        rating_score = df_meta_sub_small[df_meta_sub_small['parent_asin'] == asin]['average_rating'].values\n",
    "        rating_score = (rating_score[0] - 1) / 4 if len(rating_score) else 0\n",
    "\n",
    "        total = alpha * cf_score + beta * content_score + (1 - alpha - beta) * rating_score\n",
    "        scores.append((asin, total))\n",
    "\n",
    "        if debug:\n",
    "            print(f\"[{asin}] CF: {cf_score:.2f}, Content: {content_score:.2f}, Rating: {rating_score:.2f} → Total: {total:.2f}\")\n",
    "\n",
    "    scores.sort(key=lambda x: x[1], reverse=True)\n",
    "    return scores[:top_k]"
   ]
  },
  {
   "cell_type": "code",
   "execution_count": 30,
   "id": "71960eaa-70ca-4378-840a-f088ab7c6361",
   "metadata": {},
   "outputs": [
    {
     "data": {
      "text/html": [
       "<div>\n",
       "<style scoped>\n",
       "    .dataframe tbody tr th:only-of-type {\n",
       "        vertical-align: middle;\n",
       "    }\n",
       "\n",
       "    .dataframe tbody tr th {\n",
       "        vertical-align: top;\n",
       "    }\n",
       "\n",
       "    .dataframe thead th {\n",
       "        text-align: right;\n",
       "    }\n",
       "</style>\n",
       "<table border=\"1\" class=\"dataframe\">\n",
       "  <thead>\n",
       "    <tr style=\"text-align: right;\">\n",
       "      <th></th>\n",
       "      <th>user_id</th>\n",
       "      <th>parent_asin</th>\n",
       "      <th>rating</th>\n",
       "      <th>interaction</th>\n",
       "      <th>user_idx</th>\n",
       "      <th>item_idx</th>\n",
       "    </tr>\n",
       "  </thead>\n",
       "  <tbody>\n",
       "    <tr>\n",
       "      <th>726</th>\n",
       "      <td>AEICZD35OTDYVWA2KPYWN4PDZ2SA</td>\n",
       "      <td>B08BFQ7ZH8</td>\n",
       "      <td>5</td>\n",
       "      <td>1</td>\n",
       "      <td>6549</td>\n",
       "      <td>18753</td>\n",
       "    </tr>\n",
       "    <tr>\n",
       "      <th>1179</th>\n",
       "      <td>AGMZO7NPGHYPLCOCLMQEDGKNCHVA</td>\n",
       "      <td>B012318KE6</td>\n",
       "      <td>5</td>\n",
       "      <td>1</td>\n",
       "      <td>37616</td>\n",
       "      <td>4433</td>\n",
       "    </tr>\n",
       "    <tr>\n",
       "      <th>3009</th>\n",
       "      <td>AG5FGCIM6PBJX3JNDRKQMITZTIMA</td>\n",
       "      <td>B08BFQ7ZH8</td>\n",
       "      <td>5</td>\n",
       "      <td>1</td>\n",
       "      <td>30544</td>\n",
       "      <td>18753</td>\n",
       "    </tr>\n",
       "    <tr>\n",
       "      <th>3057</th>\n",
       "      <td>AEZP6Z2C5AVQDZAJECQYZWQRNG3Q</td>\n",
       "      <td>B07SN27NK5</td>\n",
       "      <td>4</td>\n",
       "      <td>1</td>\n",
       "      <td>14356</td>\n",
       "      <td>17195</td>\n",
       "    </tr>\n",
       "    <tr>\n",
       "      <th>3798</th>\n",
       "      <td>AFTZWAK3ZHAPCNSOT5GCKQDECBTQ</td>\n",
       "      <td>B09PHG13QP</td>\n",
       "      <td>5</td>\n",
       "      <td>1</td>\n",
       "      <td>26306</td>\n",
       "      <td>20272</td>\n",
       "    </tr>\n",
       "  </tbody>\n",
       "</table>\n",
       "</div>"
      ],
      "text/plain": [
       "                           user_id parent_asin  rating  interaction  user_idx  \\\n",
       "726   AEICZD35OTDYVWA2KPYWN4PDZ2SA  B08BFQ7ZH8       5            1      6549   \n",
       "1179  AGMZO7NPGHYPLCOCLMQEDGKNCHVA  B012318KE6       5            1     37616   \n",
       "3009  AG5FGCIM6PBJX3JNDRKQMITZTIMA  B08BFQ7ZH8       5            1     30544   \n",
       "3057  AEZP6Z2C5AVQDZAJECQYZWQRNG3Q  B07SN27NK5       4            1     14356   \n",
       "3798  AFTZWAK3ZHAPCNSOT5GCKQDECBTQ  B09PHG13QP       5            1     26306   \n",
       "\n",
       "      item_idx  \n",
       "726      18753  \n",
       "1179      4433  \n",
       "3009     18753  \n",
       "3057     17195  \n",
       "3798     20272  "
      ]
     },
     "execution_count": 30,
     "metadata": {},
     "output_type": "execute_result"
    }
   ],
   "source": [
    "df_ratings_small.head()"
   ]
  },
  {
   "cell_type": "code",
   "execution_count": 31,
   "id": "1bf6dff5-b7c9-4c8b-9dd3-3d3f874c4f58",
   "metadata": {},
   "outputs": [
    {
     "name": "stdout",
     "output_type": "stream",
     "text": [
      "Top 10 recommendations for user AEICZD35OTDYVWA2KPYWN4PDZ2SA:\n",
      "\n",
      "QBSM Women's Shawl Wrap Poncho Ruana Capes Open Front Cardigan Blanket Wraps for Fall and Winter (ASIN: B08BFQ7ZH8) — Score: 0.92\n",
      "Ourlove Fashion Women‘s Knitted Open Poncho Cape Ladies Christmas Shawl/Blanket Long Wrap with Tassel (Black+Red) (ASIN: B01MQGC1H3) — Score: 0.69\n",
      "JJ Perfection Women's Asymmetric Drape Open Front Long Cardigan Oatmeal M (ASIN: B01M6BTXYP) — Score: 0.69\n",
      "GUESS Factory Women's Athena Toggle Poncho (ASIN: B01M66LQST) — Score: 0.68\n",
      "Kumer Women Speckled Fringe Cardigan Fall Knited Tassels Sweater Aztec Stripes Shawl Loose Slash Sweater Poncho (ASIN: B0773MTHSM) — Score: 0.67\n",
      "Shawl Collar Grandfather Cardigan Oatmeal (ASIN: B00D4ANELK) — Score: 0.67\n",
      "Women Winter Knitted Cashmere Poncho Capes Shawl Cardigans Sweater Coat (one size, Beige) (ASIN: B01M0LZWDT) — Score: 0.67\n",
      "Triple9shop Women's Button-Side Front Pocket Poncho Cardigan (Coffee) (ASIN: B015QEEXP2) — Score: 0.66\n",
      "Women’s Flowy Boho Floral Print Poncho Kimono Lightweight Open Front Sheer Chiffon Long Cardigan Beach Cover Up Half Sleeve Loose Summer Tops Multi Leaf Large (ASIN: B0832FLN7R) — Score: 0.66\n",
      "Men's Shawl Collar Cable Knit Cardigan Button Down Aran Sweater Cardigan Srimson S (ASIN: B0B7GG9M6K) — Score: 0.66\n"
     ]
    }
   ],
   "source": [
    "user_id = 'AEICZD35OTDYVWA2KPYWN4PDZ2SA'#df_ratings['user_id'].iloc[726]\n",
    "candidate_asins = df_meta_sub_small['parent_asin'].unique()\n",
    "\n",
    "recommendations = hybrid_score_fast(user_id, candidate_asins, top_k=10, alpha=0.6, beta=0.3)\n",
    "\n",
    "print(f\"Top 10 recommendations for user {user_id}:\\n\")\n",
    "for asin, score in recommendations:\n",
    "    print(f\"{asin_to_title[asin]} (ASIN: {asin}) — Score: {score:.2f}\")"
   ]
  },
  {
   "cell_type": "code",
   "execution_count": 34,
   "id": "a5dcf5e3-c01a-4a20-a7a6-82f1fab8025c",
   "metadata": {},
   "outputs": [
    {
     "name": "stdout",
     "output_type": "stream",
     "text": [
      "Top 5 similar products to: Women 2pc Gold belts Silver Skinny Belt Elastic Chain Wedding Belt Mirror Metal Waistband\n",
      "Women’s Girls Skinny Faux Leather Belt Slim Waist Belt Waistband with Metal Buckle for Dress Pants (black, waist below 40\") (score: 0.50)\n",
      "Women's Wide Hook Stretch Elastic Waist Belt Waistband XL CL8961-1 (score: 0.49)\n",
      "HDE Men's Belt Elastic Stretch Waistband Woven Design Leather Tip Silver Buckle (score: 0.45)\n",
      "Bibest Magnetic Belts for Boys Grils Toddlers Adjustable Elastic Belt, Pack of 3 (score: 0.42)\n",
      "Women's Elastic Costume Waist Belt Lace-up Tied Corset Belts for Women Black XXL (score: 0.41)\n"
     ]
    }
   ],
   "source": [
    "test_asin = df_meta_sub_small['parent_asin'].iloc[0]\n",
    "test_idx = asin_to_idx[test_asin]\n",
    "\n",
    "sim_scores = cosine_sim_matrix[test_idx]\n",
    "top_sim_idxs = sim_scores.argsort()[::-1][1:6]\n",
    "\n",
    "print(f\"Top 5 similar products to: {df_meta_sub_small['title'].iloc[test_idx]}\")\n",
    "for i in top_sim_idxs:\n",
    "    print(f\"{df_meta_sub_small['title'].iloc[i]} (score: {sim_scores[i]:.2f})\")"
   ]
  },
  {
   "cell_type": "markdown",
   "id": "2876928d-5791-47a8-8044-a16b9ce4915d",
   "metadata": {},
   "source": [
    "# SUMMARY\n",
    "\n",
    "Traditional CF struggles to scale to massive, sparse e-commerce datasets.  \n",
    "Surprise SVD on user-item matrix: Precision@10: 7.5% - Learns latent patterns; better than raw CF but still affected by data sparsity => Use for registered users with sufficient history (boost repeat engagement and basket size).  \n",
    "PyTorch-based deep model with embedding layers and dropout regularization: Precision@10: 10.6%, slow in train, needs GPU/optimization => Can power personalized homepage, email campaigns, and retargeting.  \n",
    "Hybrid Recommender (SVD + TF-IDF + Average Rating): Top Recommendation Score: ~0.92 => Use as default model for guest users, cold-start users, or sparsely rated products."
   ]
  },
  {
   "cell_type": "markdown",
   "id": "70629be2-48dc-44da-af32-46f9410b27c5",
   "metadata": {},
   "source": [
    "I acknowledge that my evaluation pipeline wasn't fully consistent across models. Ideally, all models should have used the same filtered dataset and evaluation methods for direct comparison. However, due to hardware limitations like memory overload and kernel crashes, I had to train each model separately. This meant re-initializing from scratch each time, losing the ability to hold all data in memory simultaneously, and sometimes re-generating filtered samples, which introduced variance.\n",
    "I should have added popularity-based recommendations as a baseline and used consistent metrics across all models, including not just precision but also recall, coverage, diversity, and NDCG for more comprehensive evaluation."
   ]
  },
  {
   "cell_type": "code",
   "execution_count": null,
   "id": "4c3e233a-2cd1-4f35-9a2e-27440a718e25",
   "metadata": {},
   "outputs": [],
   "source": []
  }
 ],
 "metadata": {
  "kernelspec": {
   "display_name": "Python 3 (ipykernel)",
   "language": "python",
   "name": "python3"
  },
  "language_info": {
   "codemirror_mode": {
    "name": "ipython",
    "version": 3
   },
   "file_extension": ".py",
   "mimetype": "text/x-python",
   "name": "python",
   "nbconvert_exporter": "python",
   "pygments_lexer": "ipython3",
   "version": "3.12.1"
  }
 },
 "nbformat": 4,
 "nbformat_minor": 5
}
